{
 "cells": [
  {
   "cell_type": "code",
   "execution_count": 6,
   "metadata": {
    "collapsed": false
   },
   "outputs": [
    {
     "name": "stdout",
     "output_type": "stream",
     "text": [
      "\n",
      "Training With Alpha:0.001\n",
      "Error after 0 iterations:0.496410031903\n",
      "Error after 10000 iterations:0.495164025493\n",
      "Error after 20000 iterations:0.493596043188\n",
      "Error after 30000 iterations:0.491606358559\n",
      "Error after 40000 iterations:0.489100166544\n",
      "Error after 50000 iterations:0.485977857846\n",
      "\n",
      "Training With Alpha:0.01\n",
      "Error after 0 iterations:0.496410031903\n",
      "Error after 10000 iterations:0.457431074442\n",
      "Error after 20000 iterations:0.359097202563\n",
      "Error after 30000 iterations:0.239358137159\n",
      "Error after 40000 iterations:0.143070659013\n",
      "Error after 50000 iterations:0.0985964298089\n",
      "\n",
      "Training With Alpha:0.1\n",
      "Error after 0 iterations:0.496410031903\n",
      "Error after 10000 iterations:0.0428880170001\n",
      "Error after 20000 iterations:0.0240989942285\n",
      "Error after 30000 iterations:0.0181106521468\n",
      "Error after 40000 iterations:0.0149876162722\n",
      "Error after 50000 iterations:0.0130144905381\n",
      "\n",
      "Training With Alpha:1\n",
      "Error after 0 iterations:0.496410031903\n",
      "Error after 10000 iterations:0.00858452565325\n",
      "Error after 20000 iterations:0.00578945986251\n",
      "Error after 30000 iterations:0.00462917677677\n",
      "Error after 40000 iterations:0.00395876528027\n",
      "Error after 50000 iterations:0.00351012256786\n",
      "\n",
      "Training With Alpha:10\n",
      "Error after 0 iterations:0.496410031903\n",
      "Error after 10000 iterations:0.00312938876301\n",
      "Error after 20000 iterations:0.00214459557985\n",
      "Error after 30000 iterations:0.00172397549956\n",
      "Error after 40000 iterations:0.00147821451229\n",
      "Error after 50000 iterations:0.00131274062834\n",
      "\n",
      "Training With Alpha:100\n",
      "Error after 0 iterations:0.496410031903\n",
      "Error after 10000 iterations:0.125476983854\n",
      "Error after 20000 iterations:0.125330333529\n",
      "Error after 30000 iterations:0.125267728767\n",
      "Error after 40000 iterations:0.125231073663\n",
      "Error after 50000 iterations:0.125206352759\n",
      "\n",
      "Training With Alpha:1000\n",
      "Error after 0 iterations:0.496410031903\n",
      "Error after 10000 iterations:0.5\n",
      "Error after 20000 iterations:0.5\n",
      "Error after 30000 iterations:0.5\n",
      "Error after 40000 iterations:0.5\n",
      "Error after 50000 iterations:0.5\n"
     ]
    }
   ],
   "source": [
    "import numpy as np\n",
    "\n",
    "alphas = [0.001,0.01,0.1,1,10,100,1000]\n",
    "\n",
    "# compute sigmoid nonlinearity\n",
    "def sigmoid(x):\n",
    "    output = 1/(1+np.exp(-x))\n",
    "    return output\n",
    "\n",
    "# convert output of sigmoid function to its derivative\n",
    "def sigmoid_output_to_derivative(output):\n",
    "    return output*(1-output)\n",
    "    \n",
    "X = np.array([[0,0,1],\n",
    "            [0,1,1],\n",
    "            [1,0,1],\n",
    "            [1,1,1]])\n",
    "                \n",
    "y = np.array([[0],[1],[1],[0]])\n",
    "\n",
    "for alpha in alphas:\n",
    "    print(\"\\nTraining With Alpha:\" + str(alpha))\n",
    "    np.random.seed(1)\n",
    "\n",
    "    # randomly initialize our weights with mean 0\n",
    "    synapse_0 = 2*np.random.random((3,4)) - 1\n",
    "    synapse_1 = 2*np.random.random((4,1)) - 1\n",
    "\n",
    "    for j in range(60000):\n",
    "\n",
    "        # Feed forward through layers 0, 1, and 2\n",
    "        layer_0 = X\n",
    "        layer_1 = sigmoid(np.dot(layer_0,synapse_0))\n",
    "        layer_2 = sigmoid(np.dot(layer_1,synapse_1))\n",
    "\n",
    "        # how much did we miss the target value?\n",
    "        layer_2_error = layer_2 - y\n",
    "\n",
    "        if (j% 10000) == 0:\n",
    "            print(\"Error after \"+str(j)+\" iterations:\" + str(np.mean(np.abs(layer_2_error))))\n",
    "\n",
    "        # in what direction is the target value?\n",
    "        # were we really sure? if so, don't change too much.\n",
    "        layer_2_delta = layer_2_error*sigmoid_output_to_derivative(layer_2)\n",
    "\n",
    "        # how much did each l1 value contribute to the l2 error (according to the weights)?\n",
    "        layer_1_error = layer_2_delta.dot(synapse_1.T)\n",
    "\n",
    "        # in what direction is the target l1?\n",
    "        # were we really sure? if so, don't change too much.\n",
    "        layer_1_delta = layer_1_error * sigmoid_output_to_derivative(layer_1)\n",
    "\n",
    "        synapse_1 -= alpha * (layer_1.T.dot(layer_2_delta))\n",
    "        synapse_0 -= alpha * (layer_0.T.dot(layer_1_delta))\n",
    "\n"
   ]
  },
  {
   "cell_type": "code",
   "execution_count": 7,
   "metadata": {
    "collapsed": false
   },
   "outputs": [
    {
     "data": {
      "text/plain": [
       "array([[1],\n",
       "       [2],\n",
       "       [3]])"
      ]
     },
     "execution_count": 7,
     "metadata": {},
     "output_type": "execute_result"
    }
   ],
   "source": [
    "a = np.array([1, 2, 3])\n",
    "b = np.array([[1, 2, 3]])\n",
    "a[:,None]"
   ]
  },
  {
   "cell_type": "code",
   "execution_count": 8,
   "metadata": {
    "collapsed": false
   },
   "outputs": [
    {
     "data": {
      "text/plain": [
       "array([[[1, 2, 3]]])"
      ]
     },
     "execution_count": 8,
     "metadata": {},
     "output_type": "execute_result"
    }
   ],
   "source": [
    "b[:, None]"
   ]
  },
  {
   "cell_type": "code",
   "execution_count": 9,
   "metadata": {
    "collapsed": false
   },
   "outputs": [
    {
     "data": {
      "text/plain": [
       "array([[1],\n",
       "       [2],\n",
       "       [3]])"
      ]
     },
     "execution_count": 9,
     "metadata": {},
     "output_type": "execute_result"
    }
   ],
   "source": [
    "b.T"
   ]
  },
  {
   "cell_type": "code",
   "execution_count": null,
   "metadata": {
    "collapsed": true
   },
   "outputs": [],
   "source": []
  }
 ],
 "metadata": {
  "kernelspec": {
   "display_name": "Python 3",
   "language": "python",
   "name": "python3"
  },
  "language_info": {
   "codemirror_mode": {
    "name": "ipython",
    "version": 3
   },
   "file_extension": ".py",
   "mimetype": "text/x-python",
   "name": "python",
   "nbconvert_exporter": "python",
   "pygments_lexer": "ipython3",
   "version": "3.4.3"
  }
 },
 "nbformat": 4,
 "nbformat_minor": 2
}
