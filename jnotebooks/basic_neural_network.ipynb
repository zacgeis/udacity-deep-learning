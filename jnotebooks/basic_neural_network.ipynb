{
 "cells": [
  {
   "cell_type": "markdown",
   "metadata": {},
   "source": [
    "Basic Neural Network"
   ]
  },
  {
   "cell_type": "code",
   "execution_count": 1,
   "metadata": {
    "collapsed": true
   },
   "outputs": [],
   "source": [
    "import numpy as np"
   ]
  },
  {
   "cell_type": "code",
   "execution_count": 2,
   "metadata": {
    "collapsed": false
   },
   "outputs": [],
   "source": [
    "def sigmoid(x):\n",
    "    return 1 / (1 + np.exp(-x))\n",
    "\n",
    "def sigmoid_deriv(x):\n",
    "    return sigmoid(x) * (1 - sigmoid(x))"
   ]
  },
  {
   "cell_type": "code",
   "execution_count": 22,
   "metadata": {
    "collapsed": false,
    "scrolled": true
   },
   "outputs": [
    {
     "name": "stdout",
     "output_type": "stream",
     "text": [
      "Inputs: \n",
      " [array([[1, 1, 1]]), array([[1, 0, 1]]), array([[0, 1, 1]]), array([[0, 0, 1]])]\n",
      "Targets: \n",
      " [array([0]), array([1]), array([1]), array([0])]\n",
      "Weights between input and hidden: \n",
      " [[-0.55601366  0.74146461 -0.58656169  0.83722182]\n",
      " [-0.02317762  0.22348773  0.53181571  0.03683598]\n",
      " [-0.406399   -0.62455754 -0.83851746  0.47688059]]\n",
      "Weights between hidden and output: \n",
      " [[-0.11738155]\n",
      " [-0.68338026]\n",
      " [ 0.75987406]\n",
      " [-0.45182708]]\n",
      "Iteration 0, Error Rate: 0.27480227567507864\n",
      "Iteration 100, Error Rate: 0.2538749133792818\n",
      "Iteration 200, Error Rate: 0.21328054485117265\n",
      "Iteration 300, Error Rate: 0.14893031386155542\n",
      "Iteration 400, Error Rate: 0.053020957321941786\n",
      "Iteration 500, Error Rate: 0.01598250102469998\n",
      "Iteration 600, Error Rate: 0.007581433480413454\n",
      "Iteration 700, Error Rate: 0.004629386707527047\n",
      "Iteration 800, Error Rate: 0.003235660854241581\n",
      "Iteration 900, Error Rate: 0.0024509960060212486\n"
     ]
    }
   ],
   "source": [
    "input_size = 3\n",
    "hidden_size = 4\n",
    "output_size = 1\n",
    "\n",
    "learning_rate = 1\n",
    "iterations = 1000\n",
    "\n",
    "np.random.seed(5)\n",
    "\n",
    "data = np.array([[[[1, 1, 1]], [0]], [[[0, 1, 1]], [1]], [[[1, 0, 1]], [1]], [[[0, 0, 1]], [0]]])\n",
    "\n",
    "inputs = [None] * 4\n",
    "inputs[0] = np.array([[1, 1, 1]])\n",
    "inputs[1] = np.array([[1, 0, 1]])\n",
    "inputs[2] = np.array([[0, 1, 1]])\n",
    "inputs[3] = np.array([[0, 0, 1]])\n",
    "\n",
    "targets = [None] * 4\n",
    "targets[0] = np.array([0])\n",
    "targets[1] = np.array([1])\n",
    "targets[2] = np.array([1])\n",
    "targets[3] = np.array([0])\n",
    "\n",
    "weights_between_input_and_hidden = 2 * np.random.random((input_size, hidden_size)) - 1\n",
    "weights_between_hidden_and_output = 2 * np.random.random((hidden_size, output_size)) - 1\n",
    "\n",
    "print(\"Inputs: \\n\", inputs)\n",
    "print(\"Targets: \\n\", targets)\n",
    "print(\"Weights between input and hidden: \\n\", weights_between_input_and_hidden)\n",
    "print(\"Weights between hidden and output: \\n\", weights_between_hidden_and_output)\n",
    "\n",
    "for i in range(iterations):\n",
    "    error_sum = []\n",
    "    for x in range(len(inputs)):\n",
    "        input = inputs[x]\n",
    "        target = targets[x]\n",
    "\n",
    "        hidden_layer_input = np.dot(input, weights_between_input_and_hidden)\n",
    "        hidden_layer_output = sigmoid(hidden_layer_input)\n",
    "\n",
    "        output_layer_input = np.dot(hidden_layer_output, weights_between_hidden_and_output)\n",
    "        output_layer_output = sigmoid(output_layer_input)\n",
    "\n",
    "        #overall goal is to minimize the error with respect to the weights.\n",
    "        #sigmoid deriv is never negative. it only shows confidence\n",
    "        #error always dictates direction\n",
    "        \n",
    "        output_layer_error = output_layer_output - target\n",
    "        output_layer_delta = output_layer_error * sigmoid_deriv(output_layer_input)\n",
    "        \n",
    "        if i % 100 == 0:\n",
    "            error_sum.append(np.sum(output_layer_error) ** 2)\n",
    "\n",
    "        # Determine how much hidden layer contributed to output error\n",
    "        hidden_layer_error = output_layer_delta.dot(weights_between_hidden_and_output.T) # why T?\n",
    "\n",
    "        # error just changes direction and magnitude\n",
    "        # What direction is the target and how confident were we?\n",
    "        hidden_layer_delta = hidden_layer_error * sigmoid_deriv(hidden_layer_input)\n",
    "\n",
    "        weights_between_input_and_hidden_adjustment = learning_rate * input.T.dot(hidden_layer_delta)\n",
    "        weights_between_hidden_and_output_adjustment = learning_rate * hidden_layer_output.T.dot(output_layer_delta)\n",
    "        \n",
    "        weights_between_hidden_and_output -= weights_between_hidden_and_output_adjustment# needed these to be +?\n",
    "        weights_between_input_and_hidden -= weights_between_input_and_hidden_adjustment# needed these to be +?\n",
    "    if i % 100 == 0:\n",
    "        print(\"Iteration {0}, Error Rate: {1}\".format(i, np.mean(error_sum)))\n",
    "        error_sum = []"
   ]
  },
  {
   "cell_type": "code",
   "execution_count": null,
   "metadata": {
    "collapsed": true
   },
   "outputs": [],
   "source": []
  }
 ],
 "metadata": {
  "kernelspec": {
   "display_name": "Python 3",
   "language": "python",
   "name": "python3"
  },
  "language_info": {
   "codemirror_mode": {
    "name": "ipython",
    "version": 3
   },
   "file_extension": ".py",
   "mimetype": "text/x-python",
   "name": "python",
   "nbconvert_exporter": "python",
   "pygments_lexer": "ipython3",
   "version": "3.4.3"
  }
 },
 "nbformat": 4,
 "nbformat_minor": 2
}
